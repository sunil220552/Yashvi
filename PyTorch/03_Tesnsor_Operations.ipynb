{
 "cells": [
  {
   "cell_type": "markdown",
   "metadata": {},
   "source": []
  },
  {
   "cell_type": "code",
   "execution_count": 1,
   "metadata": {},
   "outputs": [],
   "source": [
    "import torch as th "
   ]
  },
  {
   "cell_type": "markdown",
   "metadata": {},
   "source": [
    "# Aim \n",
    "* Understnad how to perform mathematical operations on a torch.tesnor \n",
    "\n",
    "# Introduction \n",
    "\n",
    "Tensors support following operations \n",
    "* Addition\n",
    "* Substraction\n",
    "* Multiplication (element-wise)\n",
    "* Division\n",
    "* Transpose \n",
    "* Aggregation : min, max, mean, sum and etc \n",
    "* Matrix multiplication\n",
    "\n",
    "# Basic Operations "
   ]
  },
  {
   "cell_type": "code",
   "execution_count": 10,
   "metadata": {},
   "outputs": [
    {
     "name": "stdout",
     "output_type": "stream",
     "text": [
      "tensor([ 6,  8, 10, 12])\n",
      "tensor([-4, -4, -4, -4])\n",
      "tensor([ 5, 12, 21, 32])\n",
      "tensor([0.2000, 0.3333, 0.4286, 0.5000])\n",
      "MATRIX_3_2: tensor([[1, 2],\n",
      "        [3, 4],\n",
      "        [5, 6]])\n",
      "MATRIX_3_2_T: tensor([[1, 3, 5],\n",
      "        [2, 4, 6]])\n",
      "MATRIX_3_2_T shape: torch.Size([2, 3])\n",
      "MATRIX_3_2 size: torch.Size([3, 2])\n"
     ]
    }
   ],
   "source": [
    "vector_a = th.tensor([1, 2, 3, 4])\n",
    "vector_b = th.tensor([5, 6, 7, 8])\n",
    "\n",
    "# Add the two vectors\n",
    "vector_sum = vector_a + vector_b\n",
    "print(vector_sum)\n",
    "\n",
    "# Subtract the two vectors\n",
    "vector_diff = vector_a - vector_b\n",
    "print(vector_diff)\n",
    "\n",
    "# Element-wise multiplication\n",
    "element_wise_product = vector_a * vector_b\n",
    "print(element_wise_product)\n",
    "\n",
    "# Element-wise division\n",
    "element_wise_division = vector_a / vector_b\n",
    "print(element_wise_division)\n",
    "\n",
    "# Transpose of a tensor\n",
    "MATRIX_3_2 = th.tensor([[1, 2], [3, 4], [5, 6]])\n",
    "MATRIX_3_2_T = MATRIX_3_2.t()\n",
    "print(f'MATRIX_3_2: {MATRIX_3_2}')\n",
    "print(f'MATRIX_3_2_T: {MATRIX_3_2_T}')\n",
    "print(f'MATRIX_3_2_T shape: {MATRIX_3_2_T.shape}')\n",
    "print(f'MATRIX_3_2 size: {MATRIX_3_2.shape}')\n"
   ]
  },
  {
   "cell_type": "markdown",
   "metadata": {},
   "source": [
    "# Tensor Aggregation "
   ]
  },
  {
   "cell_type": "code",
   "execution_count": 21,
   "metadata": {},
   "outputs": [
    {
     "name": "stdout",
     "output_type": "stream",
     "text": [
      "tensor([0.5775, 0.4105, 0.2812, 0.5376, 0.8034, 0.9054, 0.9132, 0.3178, 0.2643,\n",
      "        0.4841])\n",
      "Min of vector: 0.26427483558654785\n",
      "Min position of vector: 8\n",
      "Max of vector: 0.9132288694381714\n",
      "Max position of vector: 6\n",
      "Sum of vector: 5.494887351989746\n",
      "Mean of vector: 0.5494887232780457\n"
     ]
    }
   ],
   "source": [
    "vector = th.rand(10, dtype=th.float32)\n",
    "\n",
    "print(vector)\n",
    "\n",
    "# Min \n",
    "print(f'Min of vector: {vector.min()}')\n",
    "print(f'Min position of vector: {vector.argmin()}')\n",
    "\n",
    "# Max\n",
    "print(f'Max of vector: {vector.max()}')\n",
    "print(f'Max position of vector: {vector.argmax()}')\n",
    "\n",
    "# Sum\n",
    "print(f'Sum of vector: {vector.sum()}')\n",
    "\n",
    "# Mean\n",
    "print(f'Mean of vector: {vector.mean()}')"
   ]
  },
  {
   "cell_type": "markdown",
   "metadata": {},
   "source": [
    "# Matrix multiplcation \n",
    "\n",
    "Following are the dimential related matix multiplcation rules\n",
    "\n",
    "1. The innner dimentions should mathc \n",
    "    * (3, 2) @ (3, 2) won't work\n",
    "    * (2, 3) @ (3, 2) will work\n",
    "    * (3, 2) @ (2, 3) will work\n",
    "2. The resulting matrix will have the shape of outer outer dimention \n",
    "    * (3, 2) @ (2, 3) will result in a matrix of (3, 3) shape\n",
    "    * (2, 3) @ (3, 2) will result in a matrix of (2, 2) shape\n",
    "\n",
    "`@` or `torch.matmul()` / `torch.mm()` are the matrix multipication operators"
   ]
  },
  {
   "cell_type": "code",
   "execution_count": 5,
   "metadata": {},
   "outputs": [
    {
     "name": "stdout",
     "output_type": "stream",
     "text": [
      "MATRIX_A: tensor([[1, 2, 3],\n",
      "        [4, 5, 6]])\n",
      "MATRIX_B: tensor([[ 7,  8],\n",
      "        [ 9, 10],\n",
      "        [11, 12]])\n",
      "Shape of MATRIX_A and MATRIX_B: torch.Size([2, 3]), torch.Size([3, 2])\n",
      "MATRIX_A * MATRIX_B: tensor([[ 58,  64],\n",
      "        [139, 154]])\n"
     ]
    }
   ],
   "source": [
    "MATRIX_A = th.tensor([[1, 2, 3], [4, 5, 6]])\n",
    "MATRIX_B = th.tensor([[7, 8], [9, 10], [11, 12]])\n",
    "print(f'MATRIX_A: {MATRIX_A}')\n",
    "print(f'MATRIX_B: {MATRIX_B}')\n",
    "print(f'Shape of MATRIX_A and MATRIX_B: {MATRIX_A.shape}, {MATRIX_B.shape}') \n",
    "print(f'MATRIX_A * MATRIX_B: {th.matmul(MATRIX_A, MATRIX_B)}')"
   ]
  },
  {
   "cell_type": "code",
   "execution_count": 8,
   "metadata": {},
   "outputs": [
    {
     "name": "stdout",
     "output_type": "stream",
     "text": [
      "Error: mat1 and mat2 shapes cannot be multiplied (3x2 and 3x3)\n"
     ]
    }
   ],
   "source": [
    "# Matrix multiplication with incompatible shapes\n",
    "A_3_2 = th.tensor([[1, 2], [3, 4], [5, 6]])\n",
    "B_3_3 = th.tensor([[1, 2, 3], [4, 5, 6], [7, 8, 9]])\n",
    "\n",
    "try:\n",
    "    A_3_2 @ B_3_3\n",
    "except Exception as e:\n",
    "    print(f'Error: {e}')\n"
   ]
  },
  {
   "cell_type": "markdown",
   "metadata": {},
   "source": []
  }
 ],
 "metadata": {
  "kernelspec": {
   "display_name": "Python 3 (ipykernel)",
   "language": "python",
   "name": "python3"
  },
  "language_info": {
   "codemirror_mode": {
    "name": "ipython",
    "version": 3
   },
   "file_extension": ".py",
   "mimetype": "text/x-python",
   "name": "python",
   "nbconvert_exporter": "python",
   "pygments_lexer": "ipython3",
   "version": "3.9.6"
  }
 },
 "nbformat": 4,
 "nbformat_minor": 2
}
