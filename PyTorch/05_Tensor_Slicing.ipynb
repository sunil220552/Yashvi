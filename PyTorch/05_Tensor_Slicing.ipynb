{
 "cells": [
  {
   "cell_type": "code",
   "execution_count": 1,
   "metadata": {},
   "outputs": [],
   "source": [
    "import torch as th"
   ]
  },
  {
   "cell_type": "markdown",
   "metadata": {},
   "source": [
    "# Aim \n",
    "* Understand how to access specific portion of a tensor \n",
    "\n",
    "# Introduction\n",
    "\n",
    "Tensor indexing works in the same way as list indexing"
   ]
  },
  {
   "cell_type": "code",
   "execution_count": 12,
   "metadata": {},
   "outputs": [
    {
     "name": "stdout",
     "output_type": "stream",
     "text": [
      "X : tensor([[[ 1,  2],\n",
      "         [ 3,  4],\n",
      "         [ 5,  6]],\n",
      "\n",
      "        [[ 7,  8],\n",
      "         [ 9, 10],\n",
      "         [11, 12]],\n",
      "\n",
      "        [[13, 14],\n",
      "         [15, 16],\n",
      "         [17, 18]]])\n",
      "X[0] : tensor([[1, 2],\n",
      "        [3, 4],\n",
      "        [5, 6]])\n",
      "X[0][0] : tensor([1, 2])\n",
      "X[0,0] : tensor([1, 2])\n",
      "X[0][0][0] : 1\n",
      "X[0,0,0] : 1\n",
      "X[:,:,0] : tensor([[ 1,  3,  5],\n",
      "        [ 7,  9, 11],\n",
      "        [13, 15, 17]])\n"
     ]
    }
   ],
   "source": [
    "X = th.arange(1,19).reshape(3, 3, 2)\n",
    "print(f'X : {X}')\n",
    "print(f'X[0] : {X[0]}') \n",
    "print(f'X[0][0] : {X[0][0]}')\n",
    "print(f'X[0,0] : {X[0,0]}')\n",
    "print(f'X[0][0][0] : {X[0][0][0]}')\n",
    "print(f'X[0,0,0] : {X[0,0,0]}')\n",
    "\n",
    "# Access all of first dimension, all of second dimension, and only the first element of the third dimension\n",
    "print(f'X[:,:,0] : {X[:,:,0]}')"
   ]
  }
 ],
 "metadata": {
  "kernelspec": {
   "display_name": "Python 3 (ipykernel)",
   "language": "python",
   "name": "python3"
  },
  "language_info": {
   "codemirror_mode": {
    "name": "ipython",
    "version": 3
   },
   "file_extension": ".py",
   "mimetype": "text/x-python",
   "name": "python",
   "nbconvert_exporter": "python",
   "pygments_lexer": "ipython3",
   "version": "3.9.6"
  }
 },
 "nbformat": 4,
 "nbformat_minor": 2
}
