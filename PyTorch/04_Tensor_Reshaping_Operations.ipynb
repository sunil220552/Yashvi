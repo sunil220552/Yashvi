{
 "cells": [
  {
   "cell_type": "code",
   "execution_count": 1,
   "metadata": {},
   "outputs": [],
   "source": [
    "import torch as th"
   ]
  },
  {
   "cell_type": "markdown",
   "metadata": {},
   "source": [
    "# Aim \n",
    "* Understand the tensor reshaping operations \n",
    "\n",
    "# Introduction \n",
    "\n",
    "Following are a few shape operations:\n",
    "* Reshape: Reshape an input tensor to a target dimension.\n",
    "* View: Returns a reshaped tensor that shares the same memory as the original tensor.\n",
    "* Stack: Stacks tensors in a specified dimension.\n",
    "* Squeeze: Returns a tensor by removing any dimension of size 1.\n",
    "* Unsqueeze: Adds a dimension of size 1 at a specified dimension.\n",
    "* Permute: Returns a view of the input by permuting the dimensions in a specific order.\n",
    "\n",
    "# Reshape and View \n",
    "\n",
    "Reshape and view perform similar operations. View ensures input and output tensors share the same memory location. Reshape may or may not use the same memory location."
   ]
  },
  {
   "cell_type": "code",
   "execution_count": 20,
   "metadata": {},
   "outputs": [
    {
     "name": "stdout",
     "output_type": "stream",
     "text": [
      "vector : tensor([ 1,  2,  3,  4,  5,  6,  7,  8,  9, 10])\n",
      "vector reshaped as 5, 2 : tensor([[ 1,  2],\n",
      "        [ 3,  4],\n",
      "        [ 5,  6],\n",
      "        [ 7,  8],\n",
      "        [ 9, 10]])\n",
      "vector reshaped as 2, 5 : tensor([[ 1,  2,  3,  4,  5],\n",
      "        [ 6,  7,  8,  9, 10]])\n",
      "vector viewed as 5, 2 : tensor([[ 1,  2],\n",
      "        [ 3,  4],\n",
      "        [ 5,  6],\n",
      "        [ 7,  8],\n",
      "        [ 9, 10]])\n",
      "vector viewed as 2, 5 : tensor([[ 1,  2,  3,  4,  5],\n",
      "        [ 6,  7,  8,  9, 10]])\n"
     ]
    }
   ],
   "source": [
    "vector = th.arange(1, 11)\n",
    "\n",
    "print(f'vector : {vector}') \n",
    "print(f'vector reshaped as 5, 2 : {vector.reshape(5, 2)}')\n",
    "print(f'vector reshaped as 2, 5 : {vector.reshape(2, 5)}')\n",
    "\n",
    "print(f'vector viewed as 5, 2 : {vector.view(5, 2)}')\n",
    "print(f'vector viewed as 2, 5 : {vector.view(2, 5)}')"
   ]
  },
  {
   "cell_type": "markdown",
   "metadata": {},
   "source": [
    "* View shares the same memory address. So updating the reshaped tensor updates the original tensor."
   ]
  },
  {
   "cell_type": "code",
   "execution_count": 21,
   "metadata": {},
   "outputs": [
    {
     "data": {
      "text/plain": [
       "(tensor([[1000,    2],\n",
       "         [   3,    4],\n",
       "         [   5,    6],\n",
       "         [   7,    8],\n",
       "         [   9,   10]]),\n",
       " tensor([1000,    2,    3,    4,    5,    6,    7,    8,    9,   10]))"
      ]
     },
     "execution_count": 21,
     "metadata": {},
     "output_type": "execute_result"
    }
   ],
   "source": [
    "reshaped_vector = vector.view(5, 2)\n",
    "reshaped_vector[0, 0] = 1000\n",
    "reshaped_vector, vector"
   ]
  },
  {
   "cell_type": "markdown",
   "metadata": {},
   "source": [
    "# Stack\n",
    "Concatinate a tensor along a new dimention"
   ]
  },
  {
   "cell_type": "code",
   "execution_count": 25,
   "metadata": {},
   "outputs": [
    {
     "name": "stdout",
     "output_type": "stream",
     "text": [
      "vector_stack_0 and shape : tensor([[0, 1, 2, 3, 4],\n",
      "        [0, 1, 2, 3, 4],\n",
      "        [0, 1, 2, 3, 4]]), torch.Size([3, 5])\n",
      "vector_stack_1 and shape : tensor([[0, 0, 0],\n",
      "        [1, 1, 1],\n",
      "        [2, 2, 2],\n",
      "        [3, 3, 3],\n",
      "        [4, 4, 4]]), torch.Size([5, 3])\n"
     ]
    }
   ],
   "source": [
    "vector = th.arange(0, 5)\n",
    "\n",
    "vector_stack_0 = th.stack([vector, vector, vector], dim=0)\n",
    "\n",
    "vector_stack_1 = th.stack([vector, vector, vector], dim=1)\n",
    "\n",
    "\n",
    "print(f'vector_stack_0 and shape : {vector_stack_0}, {vector_stack_0.shape}')\n",
    "print(f'vector_stack_1 and shape : {vector_stack_1}, {vector_stack_1.shape}')\n"
   ]
  },
  {
   "cell_type": "markdown",
   "metadata": {},
   "source": [
    "# Squeeze and Unsqueeze\n",
    "\n",
    "Squeeze removes any dimension of size 1. Unsqueeze adds a dimension on a specified axis."
   ]
  },
  {
   "cell_type": "code",
   "execution_count": 32,
   "metadata": {},
   "outputs": [
    {
     "name": "stdout",
     "output_type": "stream",
     "text": [
      "M and shape: tensor([[[0.2786, 0.0214, 0.4552],\n",
      "         [0.6411, 0.6284, 0.8966]]]), torch.Size([1, 2, 3])\n",
      "M.squeeze() and shape : tensor([[0.2786, 0.0214, 0.4552],\n",
      "        [0.6411, 0.6284, 0.8966]]), torch.Size([2, 3])\n",
      "N and shape: tensor([[[1, 2, 3]]]), torch.Size([1, 1, 3])\n",
      "N.squeeze() and shape : tensor([1, 2, 3]), torch.Size([3])\n"
     ]
    }
   ],
   "source": [
    "M = th.rand(1, 2, 3)\n",
    "\n",
    "print(f'M and shape: {M}, {M.shape}')  \n",
    "print(f'M.squeeze() and shape : {M.squeeze()}, {M.squeeze().shape}') \n",
    "\n",
    "N = th.tensor([[[1, 2, 3]]])\n",
    "\n",
    "print(f'N and shape: {N}, {N.shape}')  \n",
    "print(f'N.squeeze() and shape : {N.squeeze()}, {N.squeeze().shape}') "
   ]
  },
  {
   "cell_type": "code",
   "execution_count": 34,
   "metadata": {},
   "outputs": [
    {
     "name": "stdout",
     "output_type": "stream",
     "text": [
      "P and shape: tensor([[[0.5835],\n",
      "         [0.8572]]]), torch.Size([1, 2, 1])\n",
      "Q and shape: tensor([[[[0.5835],\n",
      "          [0.8572]]]]), torch.Size([1, 1, 2, 1])\n",
      "R and shape: tensor([[[[0.5835],\n",
      "          [0.8572]]]]), torch.Size([1, 1, 2, 1])\n",
      "S and shape: tensor([[[[0.5835]],\n",
      "\n",
      "         [[0.8572]]]]), torch.Size([1, 2, 1, 1])\n"
     ]
    }
   ],
   "source": [
    "P = th.rand(1, 2, 1)\n",
    "Q = P.unsqueeze(0)\n",
    "R = P.unsqueeze(1)\n",
    "S = P.unsqueeze(2)\n",
    "\n",
    "print(f'P and shape: {P}, {P.shape}')\n",
    "print(f'Q and shape: {Q}, {Q.shape}')\n",
    "print(f'R and shape: {R}, {R.shape}')\n",
    "print(f'S and shape: {S}, {S.shape}')"
   ]
  },
  {
   "cell_type": "markdown",
   "metadata": {},
   "source": [
    "# Permute \n",
    "\n",
    "Returns a view of a tensor by permuting the dimension in a specified way. "
   ]
  },
  {
   "cell_type": "code",
   "execution_count": 36,
   "metadata": {},
   "outputs": [
    {
     "name": "stdout",
     "output_type": "stream",
     "text": [
      "IMAGE shape: torch.Size([256, 256, 3])\n",
      "IMAGE_3_256_256 shape: torch.Size([3, 256, 256])\n"
     ]
    }
   ],
   "source": [
    "IMAGE = th.rand(256, 256, 3)\n",
    "\n",
    "IMAGE_3_256_256 = IMAGE.permute(2, 0, 1)\n",
    "\n",
    "print(f'IMAGE shape: {IMAGE.shape}')\n",
    "print(f'IMAGE_3_256_256 shape: {IMAGE_3_256_256.shape}')"
   ]
  },
  {
   "cell_type": "markdown",
   "metadata": {},
   "source": []
  }
 ],
 "metadata": {
  "kernelspec": {
   "display_name": "Python 3 (ipykernel)",
   "language": "python",
   "name": "python3"
  },
  "language_info": {
   "codemirror_mode": {
    "name": "ipython",
    "version": 3
   },
   "file_extension": ".py",
   "mimetype": "text/x-python",
   "name": "python",
   "nbconvert_exporter": "python",
   "pygments_lexer": "ipython3",
   "version": "3.9.6"
  }
 },
 "nbformat": 4,
 "nbformat_minor": 2
}
