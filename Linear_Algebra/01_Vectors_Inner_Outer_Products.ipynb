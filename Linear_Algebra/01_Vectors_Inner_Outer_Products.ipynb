{
 "cells": [
  {
   "cell_type": "markdown",
   "metadata": {},
   "source": [
    "# Aim \n",
    "\n",
    "* Understand vector inner and outer products\n",
    "* Implement these operations using PyTorch\n",
    "* Connect these concepts to neural network applications\n",
    "\n",
    "# Inner Product\n",
    "\n",
    "The inner product (or dot product) of two vectors is fundamental in neural networks. It represents how we compute the weighted sum of inputs in a neuron.\n",
    "\n",
    "Consider two vectors:\n",
    "```\n",
    "U = [u₁, u₂, u₃]\n",
    "V = [v₁, v₂, v₃]\n",
    "```\n",
    "\n",
    "The inner product is defined as:\n",
    "```\n",
    "U·V = u₁v₁ + u₂v₂ + u₃v₃\n",
    "```"
   ]
  },
  {
   "cell_type": "code",
   "execution_count": 15,
   "metadata": {},
   "outputs": [
    {
     "name": "stdout",
     "output_type": "stream",
     "text": [
      "Inner product using dot: 34.0\n",
      "Inner product using sum: 34.0\n"
     ]
    }
   ],
   "source": [
    "import torch\n",
    "\n",
    "# Create example vectors\n",
    "u = torch.tensor([1., 2., 3.])\n",
    "v = torch.tensor([4., 6., 6.])\n",
    "\n",
    "# Computing inner product using dot product\n",
    "result1 = torch.dot(u, v)\n",
    "\n",
    "# Computing using element-wise multiplication and sum\n",
    "result2 = (u * v).sum()\n",
    "\n",
    "print(f'Inner product using dot: {result1}')\n",
    "print(f'Inner product using sum: {result2}')"
   ]
  },
  {
   "cell_type": "markdown",
   "metadata": {},
   "source": [
    "## Notes\n",
    "\n",
    "* If ```U·V``` is zero, then they are orthogonal\n",
    "* Norm of a vector (```||u||```) is \n",
    "\n",
    "```\n",
    "||u|| = pow(U·U, 0.5)\n",
    "```\n",
    "* Vector is normalized if ```||u||``` is 1\n"
   ]
  },
  {
   "cell_type": "markdown",
   "metadata": {},
   "source": [
    "## Outer Product\n",
    "\n",
    "The outer product of two vectors creates a matrix where each element (i,j) is the product of the i-th element of the first vector and j-th element of the second vector.\n",
    "\n",
    "For our vectors U and V, the outer product U⊗V gives:\n",
    "```\n",
    "[[u₁v₁  u₁v₂  u₁v₃],\n",
    " [u₂v₁  u₂v₂  u₂v₃],\n",
    " [u₃v₁  u₃v₂  u₃v₃]]\n",
    "```"
   ]
  },
  {
   "cell_type": "code",
   "execution_count": 20,
   "metadata": {},
   "outputs": [
    {
     "name": "stdout",
     "output_type": "stream",
     "text": [
      "Outer product result:\n",
      "tensor([[ 4.,  6.,  6.],\n",
      "        [ 8., 12., 12.],\n",
      "        [12., 18., 18.]])\n",
      "tensor([[ 4.,  6.,  6.],\n",
      "        [ 8., 12., 12.],\n",
      "        [12., 18., 18.]])\n",
      "\n",
      "Shape of result: torch.Size([3, 3])\n"
     ]
    }
   ],
   "source": [
    "# Computing outer product\n",
    "outer1 = torch.outer(u, v)\n",
    "\n",
    "# Alternative method using matrix multiplication\n",
    "outer2 = u.unsqueeze(1) @ v.unsqueeze(0)\n",
    "\n",
    "print('Outer product result:')\n",
    "print(outer1)\n",
    "print(outer2)\n",
    "\n",
    "print('\\nShape of result:', outer1.shape)"
   ]
  },
  {
   "cell_type": "markdown",
   "metadata": {},
   "source": [
    "## Neural Network Application\n",
    "\n",
    "* Forward pass uses inner product for computing neuron outputs\n"
   ]
  },
  {
   "cell_type": "markdown",
   "metadata": {},
   "source": []
  }
 ],
 "metadata": {
  "kernelspec": {
   "display_name": "Python 3 (ipykernel)",
   "language": "python",
   "name": "python3"
  },
  "language_info": {
   "codemirror_mode": {
    "name": "ipython",
    "version": 3
   },
   "file_extension": ".py",
   "mimetype": "text/x-python",
   "name": "python",
   "nbconvert_exporter": "python",
   "pygments_lexer": "ipython3",
   "version": "3.9.6"
  }
 },
 "nbformat": 4,
 "nbformat_minor": 2
}
